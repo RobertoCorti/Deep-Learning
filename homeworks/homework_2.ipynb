{
 "cells": [
  {
   "cell_type": "markdown",
   "metadata": {
    "id": "z2wfUyBn0ziK"
   },
   "source": [
    "# Deep Learning - Homework 02\n",
    "\n",
    "### Roberto Corti"
   ]
  },
  {
   "cell_type": "code",
   "execution_count": 6,
   "metadata": {
    "colab": {
     "base_uri": "https://localhost:8080/"
    },
    "executionInfo": {
     "elapsed": 22210,
     "status": "ok",
     "timestamp": 1616919379288,
     "user": {
      "displayName": "Roberto Corti",
      "photoUrl": "https://lh4.googleusercontent.com/-KaiJHEP6Eps/AAAAAAAAAAI/AAAAAAAAABU/y4Yv-P85NuU/s64/photo.jpg",
      "userId": "08099351609548175475"
     },
     "user_tz": -120
    },
    "id": "HaEtPtQN51-u",
    "outputId": "5ffd9024-9f00-4612-ea0a-5ec2eed1a9bd"
   },
   "outputs": [
    {
     "name": "stdout",
     "output_type": "stream",
     "text": [
      "Mounted at /content/drive\n"
     ]
    }
   ],
   "source": [
    "from google.colab import drive\n",
    "\n",
    "folder_mount = '/content/drive' # Your Drive will be mounted on top of this path\n",
    "\n",
    "drive.mount(folder_mount)"
   ]
  },
  {
   "cell_type": "code",
   "execution_count": 7,
   "metadata": {
    "colab": {
     "base_uri": "https://localhost:8080/"
    },
    "executionInfo": {
     "elapsed": 990,
     "status": "ok",
     "timestamp": 1616919420169,
     "user": {
      "displayName": "Roberto Corti",
      "photoUrl": "https://lh4.googleusercontent.com/-KaiJHEP6Eps/AAAAAAAAAAI/AAAAAAAAABU/y4Yv-P85NuU/s64/photo.jpg",
      "userId": "08099351609548175475"
     },
     "user_tz": -120
    },
    "id": "3WuJVcda58Xm",
    "outputId": "ba5427b3-cae0-43e5-a6b4-da5344ac320e"
   },
   "outputs": [
    {
     "name": "stdout",
     "output_type": "stream",
     "text": [
      "/content/drive/MyDrive/Università/DSSC/Secondo Anno/Deep-Learning/homeworks\n"
     ]
    }
   ],
   "source": [
    "%cd drive/MyDrive/Università/DSSC/Secondo\\ Anno/Deep-Learning/homeworks"
   ]
  },
  {
   "cell_type": "code",
   "execution_count": 2,
   "metadata": {
    "executionInfo": {
     "elapsed": 3618,
     "status": "ok",
     "timestamp": 1616918921855,
     "user": {
      "displayName": "Roberto Corti",
      "photoUrl": "https://lh4.googleusercontent.com/-KaiJHEP6Eps/AAAAAAAAAAI/AAAAAAAAABU/y4Yv-P85NuU/s64/photo.jpg",
      "userId": "08099351609548175475"
     },
     "user_tz": -120
    },
    "id": "_kHARHwPq3sk"
   },
   "outputs": [],
   "source": [
    "import torch\n",
    "import itertools\n",
    "import matplotlib.pyplot as plt\n",
    "import numpy as np"
   ]
  },
  {
   "cell_type": "markdown",
   "metadata": {
    "id": "awZzJkZm1ZX8"
   },
   "source": [
    "### 1. Read Read the paper [Learning representations by back-propagating errors with learning rule](https://www.nature.com/articles/323533a0.pdf)\n"
   ]
  },
  {
   "cell_type": "markdown",
   "metadata": {
    "id": "ztLhGxf41hpz"
   },
   "source": [
    "### 2. Reconstruct in PyTorch the first experiment in eq.8 (gradient descent without momentum)."
   ]
  },
  {
   "cell_type": "markdown",
   "metadata": {
    "id": "umHnu2fN1qgH"
   },
   "source": [
    "The input vector $\\bf{X}$ of this MLP model is a binary six-dimensional binary vector (i.e. $\\forall i \\in \\{1, ..., 6\\},  X_i \\in \\{ 0, 1\\} )$ and the output $y$ is a scalar binary value that is 1 if and only if we have _mirror symmetry_ in $\\bf{X}$ that is \n",
    "\n",
    "$$\n",
    "\\begin{pmatrix} x_1 \\\\ x_2 \\\\ x_3 \\\\ x_4 \\\\ x_5 \\\\ x_6 \\end{pmatrix} = \\begin{pmatrix} x_6 \\\\ x_5 \\\\ x_4 \\\\ x_3 \\\\ x_2 \\\\ x_1 \\end{pmatrix} \n",
    "$$\n",
    "\n",
    "\n",
    "In order to reconstruct the experiment let's create the training data, that is given by all possible $2^6=54$ combination of the input vector $\\bf{X}$ provided with their own proper label $y$\n"
   ]
  },
  {
   "cell_type": "code",
   "execution_count": 4,
   "metadata": {
    "executionInfo": {
     "elapsed": 621,
     "status": "ok",
     "timestamp": 1616918946844,
     "user": {
      "displayName": "Roberto Corti",
      "photoUrl": "https://lh4.googleusercontent.com/-KaiJHEP6Eps/AAAAAAAAAAI/AAAAAAAAABU/y4Yv-P85NuU/s64/photo.jpg",
      "userId": "08099351609548175475"
     },
     "user_tz": -120
    },
    "id": "AEyhD3mSrECr"
   },
   "outputs": [],
   "source": [
    "X = torch.tensor([list(i) for i in itertools.product([0, 1], repeat=6)], dtype=torch.float32)\n",
    "\n",
    "y = torch.tensor([1 if (x == x.flip(0)).all().item() else 0 for x in X], dtype=torch.float32)\n",
    "y = y.reshape(64, 1)"
   ]
  },
  {
   "cell_type": "code",
   "execution_count": 5,
   "metadata": {
    "colab": {
     "base_uri": "https://localhost:8080/"
    },
    "executionInfo": {
     "elapsed": 670,
     "status": "ok",
     "timestamp": 1616918949011,
     "user": {
      "displayName": "Roberto Corti",
      "photoUrl": "https://lh4.googleusercontent.com/-KaiJHEP6Eps/AAAAAAAAAAI/AAAAAAAAABU/y4Yv-P85NuU/s64/photo.jpg",
      "userId": "08099351609548175475"
     },
     "user_tz": -120
    },
    "id": "LJJef-8mtF7W",
    "outputId": "506b90ec-e51f-40e5-9d7c-028a6433db30"
   },
   "outputs": [
    {
     "name": "stdout",
     "output_type": "stream",
     "text": [
      "X1: [0. 0. 0. 0. 0. 0.], y1: [1.]\n",
      "X2: [0. 0. 0. 0. 0. 1.], y2: [0.]\n",
      "X3: [0. 0. 0. 0. 1. 0.], y3: [0.]\n",
      "X4: [0. 0. 0. 0. 1. 1.], y4: [0.]\n",
      "X5: [0. 0. 0. 1. 0. 0.], y5: [0.]\n",
      "X6: [0. 0. 0. 1. 0. 1.], y6: [0.]\n",
      "X7: [0. 0. 0. 1. 1. 0.], y7: [0.]\n",
      "X8: [0. 0. 0. 1. 1. 1.], y8: [0.]\n",
      "X9: [0. 0. 1. 0. 0. 0.], y9: [0.]\n",
      "X10: [0. 0. 1. 0. 0. 1.], y10: [0.]\n",
      "X11: [0. 0. 1. 0. 1. 0.], y11: [0.]\n",
      "X12: [0. 0. 1. 0. 1. 1.], y12: [0.]\n",
      "X13: [0. 0. 1. 1. 0. 0.], y13: [1.]\n",
      "X14: [0. 0. 1. 1. 0. 1.], y14: [0.]\n",
      "X15: [0. 0. 1. 1. 1. 0.], y15: [0.]\n",
      "X16: [0. 0. 1. 1. 1. 1.], y16: [0.]\n",
      "X17: [0. 1. 0. 0. 0. 0.], y17: [0.]\n",
      "X18: [0. 1. 0. 0. 0. 1.], y18: [0.]\n",
      "X19: [0. 1. 0. 0. 1. 0.], y19: [1.]\n",
      "X20: [0. 1. 0. 0. 1. 1.], y20: [0.]\n",
      "X21: [0. 1. 0. 1. 0. 0.], y21: [0.]\n",
      "X22: [0. 1. 0. 1. 0. 1.], y22: [0.]\n",
      "X23: [0. 1. 0. 1. 1. 0.], y23: [0.]\n",
      "X24: [0. 1. 0. 1. 1. 1.], y24: [0.]\n",
      "X25: [0. 1. 1. 0. 0. 0.], y25: [0.]\n",
      "X26: [0. 1. 1. 0. 0. 1.], y26: [0.]\n",
      "X27: [0. 1. 1. 0. 1. 0.], y27: [0.]\n",
      "X28: [0. 1. 1. 0. 1. 1.], y28: [0.]\n",
      "X29: [0. 1. 1. 1. 0. 0.], y29: [0.]\n",
      "X30: [0. 1. 1. 1. 0. 1.], y30: [0.]\n",
      "X31: [0. 1. 1. 1. 1. 0.], y31: [1.]\n",
      "X32: [0. 1. 1. 1. 1. 1.], y32: [0.]\n",
      "X33: [1. 0. 0. 0. 0. 0.], y33: [0.]\n",
      "X34: [1. 0. 0. 0. 0. 1.], y34: [1.]\n",
      "X35: [1. 0. 0. 0. 1. 0.], y35: [0.]\n",
      "X36: [1. 0. 0. 0. 1. 1.], y36: [0.]\n",
      "X37: [1. 0. 0. 1. 0. 0.], y37: [0.]\n",
      "X38: [1. 0. 0. 1. 0. 1.], y38: [0.]\n",
      "X39: [1. 0. 0. 1. 1. 0.], y39: [0.]\n",
      "X40: [1. 0. 0. 1. 1. 1.], y40: [0.]\n",
      "X41: [1. 0. 1. 0. 0. 0.], y41: [0.]\n",
      "X42: [1. 0. 1. 0. 0. 1.], y42: [0.]\n",
      "X43: [1. 0. 1. 0. 1. 0.], y43: [0.]\n",
      "X44: [1. 0. 1. 0. 1. 1.], y44: [0.]\n",
      "X45: [1. 0. 1. 1. 0. 0.], y45: [0.]\n",
      "X46: [1. 0. 1. 1. 0. 1.], y46: [1.]\n",
      "X47: [1. 0. 1. 1. 1. 0.], y47: [0.]\n",
      "X48: [1. 0. 1. 1. 1. 1.], y48: [0.]\n",
      "X49: [1. 1. 0. 0. 0. 0.], y49: [0.]\n",
      "X50: [1. 1. 0. 0. 0. 1.], y50: [0.]\n",
      "X51: [1. 1. 0. 0. 1. 0.], y51: [0.]\n",
      "X52: [1. 1. 0. 0. 1. 1.], y52: [1.]\n",
      "X53: [1. 1. 0. 1. 0. 0.], y53: [0.]\n",
      "X54: [1. 1. 0. 1. 0. 1.], y54: [0.]\n",
      "X55: [1. 1. 0. 1. 1. 0.], y55: [0.]\n",
      "X56: [1. 1. 0. 1. 1. 1.], y56: [0.]\n",
      "X57: [1. 1. 1. 0. 0. 0.], y57: [0.]\n",
      "X58: [1. 1. 1. 0. 0. 1.], y58: [0.]\n",
      "X59: [1. 1. 1. 0. 1. 0.], y59: [0.]\n",
      "X60: [1. 1. 1. 0. 1. 1.], y60: [0.]\n",
      "X61: [1. 1. 1. 1. 0. 0.], y61: [0.]\n",
      "X62: [1. 1. 1. 1. 0. 1.], y62: [0.]\n",
      "X63: [1. 1. 1. 1. 1. 0.], y63: [0.]\n",
      "X64: [1. 1. 1. 1. 1. 1.], y64: [1.]\n"
     ]
    }
   ],
   "source": [
    "for i in range(0, 64):\n",
    "  print(f'X{i+1}: {X[i].numpy()}, y{i+1}: {y[i].numpy()}')"
   ]
  },
  {
   "cell_type": "markdown",
   "metadata": {
    "id": "91yM8oDt4Wh0"
   },
   "source": [
    "Once generated the data, my focus goes on the architecture of the network.\n",
    "\n",
    "The neural network depicted in Fig.1 has the following structure:\n",
    "\n",
    "![](img/MLP-hw_2.png)\n",
    "\n",
    "\n",
    "\n",
    "**Layer 1**:  \n",
    "* $ z^{(1)} = W^{(1)}  x$,  where $x \\in  \\mathbb{R}^{6} $ and $W^{(1)} \\in \\mathbb{R}^{2 \\times 5}$\n",
    "* $ a^{(1)} = h^{(1)}(z^{(1)})$, where $h^{(1)}(x) = sigmoid(x)$\n",
    "\n",
    "\n",
    "**Layer 2**:  \n",
    "* $ z^{(2)} = W^{(2)}  a^{(1)}$,  where $a^{(1)} \\in \\mathbb{R}^{2}$ and $W^{(2)} \\in \\mathbb{R}^{1 \\times 2}$\n",
    "* $ \\hat{y} = h^{(2)}(z^{(2)})$, where $h^{(2)}(x) = sigmoid(x)$\n",
    "\n",
    "\n"
   ]
  },
  {
   "cell_type": "code",
   "execution_count": 8,
   "metadata": {
    "executionInfo": {
     "elapsed": 552,
     "status": "ok",
     "timestamp": 1616919629691,
     "user": {
      "displayName": "Roberto Corti",
      "photoUrl": "https://lh4.googleusercontent.com/-KaiJHEP6Eps/AAAAAAAAAAI/AAAAAAAAABU/y4Yv-P85NuU/s64/photo.jpg",
      "userId": "08099351609548175475"
     },
     "user_tz": -120
    },
    "id": "Wg-YkocoyhOj"
   },
   "outputs": [],
   "source": [
    "class ANN(torch.nn.Module):\n",
    "  def __init__(self):\n",
    "    super().__init__()\n",
    "    self.layer1 = torch.nn.Linear(in_features=6, out_features=2,  bias=False)\n",
    "    self.outlayer = torch.nn.Linear(in_features=2, out_features=1,  bias=False)\n",
    "    \n",
    "  def forward(self, x):\n",
    "    out = self.layer1(x)\n",
    "    out = torch.sigmoid(out)\n",
    "    out = self.outlayer(out)\n",
    "    out = torch.sigmoid(out)\n",
    "    return out"
   ]
  },
  {
   "cell_type": "markdown",
   "metadata": {
    "id": "qdR_Hhsh7Jz-"
   },
   "source": [
    "### 3. Train the model\n",
    "\n",
    "To train the model I have to make several decisions related to weight initialization, loss function, optimizer, learning rate and number of epochs. In order to be consistent with what is written in the paper I make the following choices:\n",
    "\n",
    "* All weights of the network are initialized from an Uniform distribution in the interval [-0.3, 0.3].\n",
    "\n",
    "\n",
    "* The loss function is the Mean Square Error  $ L \\propto (y-\\hat{y})^2$\n",
    "\n",
    "\n",
    "* As requested, the optimizer is the one specified in Eq.(8), that is the Gradient Descent without momentum. It updates weights in the following way: \n",
    "$$ w^{epoch+1} = w^{epoch} - \\epsilon \\nabla_w L $$\n",
    "The learning rate $\\epsilon$ it has been fixed at 0.1.\n",
    "\n",
    "\n",
    "* The number of epochs chosen is 1000"
   ]
  },
  {
   "cell_type": "code",
   "execution_count": 12,
   "metadata": {
    "colab": {
     "base_uri": "https://localhost:8080/",
     "height": 475
    },
    "executionInfo": {
     "elapsed": 1190,
     "status": "ok",
     "timestamp": 1616920439830,
     "user": {
      "displayName": "Roberto Corti",
      "photoUrl": "https://lh4.googleusercontent.com/-KaiJHEP6Eps/AAAAAAAAAAI/AAAAAAAAABU/y4Yv-P85NuU/s64/photo.jpg",
      "userId": "08099351609548175475"
     },
     "user_tz": -120
    },
    "id": "rZ78z5T6zLr9",
    "outputId": "7726af73-1f82-4e84-a949-08f7d7024df3"
   },
   "outputs": [
    {
     "name": "stdout",
     "output_type": "stream",
     "text": [
      "epoch 1 / 1000, loss = 0.2538\n",
      "epoch 101 / 1000, loss = 0.1537\n",
      "epoch 201 / 1000, loss = 0.1232\n",
      "epoch 301 / 1000, loss = 0.1145\n",
      "epoch 401 / 1000, loss = 0.1116\n",
      "epoch 501 / 1000, loss = 0.1104\n",
      "epoch 601 / 1000, loss = 0.1098\n",
      "epoch 701 / 1000, loss = 0.1096\n",
      "epoch 801 / 1000, loss = 0.1094\n",
      "epoch 901 / 1000, loss = 0.1094\n",
      "\n",
      "\n"
     ]
    },
    {
     "data": {
      "image/png": "[encoded data removed]",
      "text/plain": [
       "<Figure size 432x288 with 1 Axes>"
      ]
     },
     "metadata": {
      "needs_background": "light",
      "tags": []
     },
     "output_type": "display_data"
    }
   ],
   "source": [
    "# model\n",
    "model = ANN()\n",
    "\n",
    "for w in model.parameters():\n",
    "    torch.nn.init.uniform_(w, a=-0.3, b=0.3)\n",
    "\n",
    "# loss and optimizer\n",
    "criterion = torch.nn.MSELoss()\n",
    "optimizer = torch.optim.SGD(model.parameters(), lr=0.1)\n",
    "\n",
    "# training loop\n",
    "num_epochs = 1000\n",
    "\n",
    "# losses\n",
    "losses  = []\n",
    "\n",
    "for epoch in range(num_epochs):\n",
    "\n",
    "    # forward pass\n",
    "    y_hat = model.forward(X)\n",
    "    loss = criterion(y_hat, y)\n",
    "    losses.append(loss.item())\n",
    "    # backward \n",
    "    optimizer.zero_grad()\n",
    "    loss.backward()\n",
    "    optimizer.step()\n",
    "    # print\n",
    "    if epoch % 100 == 0:\n",
    "      print(f'epoch {epoch+1} / {num_epochs}, loss = {loss.item():.4f}')\n",
    "\n",
    "\n",
    "print('\\n')\n",
    "plt.plot(np.arange(num_epochs), losses, '.-')\n",
    "plt.show()"
   ]
  },
  {
   "cell_type": "markdown",
   "metadata": {
    "id": "jYyBykiR949n"
   },
   "source": [
    "After  ~600 epochs we observe that the Loss function is not able to decrease its value anymore.\n",
    "\n",
    "Is the trained network now able to see the symmetric examples ?"
   ]
  },
  {
   "cell_type": "code",
   "execution_count": 39,
   "metadata": {
    "colab": {
     "base_uri": "https://localhost:8080/"
    },
    "executionInfo": {
     "elapsed": 670,
     "status": "ok",
     "timestamp": 1616921143183,
     "user": {
      "displayName": "Roberto Corti",
      "photoUrl": "https://lh4.googleusercontent.com/-KaiJHEP6Eps/AAAAAAAAAAI/AAAAAAAAABU/y4Yv-P85NuU/s64/photo.jpg",
      "userId": "08099351609548175475"
     },
     "user_tz": -120
    },
    "id": "aZdfsPpg93mq",
    "outputId": "e31d48c1-b508-4405-d25c-35a970783529"
   },
   "outputs": [
    {
     "name": "stdout",
     "output_type": "stream",
     "text": [
      "Misclassified symmetric examples: 8\n"
     ]
    }
   ],
   "source": [
    "with torch.no_grad():\n",
    "  mask = (y==1.0).flatten().tolist()\n",
    "  X_symm = X[mask]\n",
    "  y_symm = y[mask]\n",
    "\n",
    "\n",
    "  y_hat = torch.tensor([1.0 if model(x)>0.5 else 0.0 for x in X_symm]).reshape(sum(mask), 1)\n",
    "\n",
    "  print(f'Misclassified symmetric examples: {sum(y_hat!=y_symm).item()}')"
   ]
  },
  {
   "cell_type": "markdown",
   "metadata": {
    "id": "0TbwmvmqBZNC"
   },
   "source": [
    "### 4. Inspect the weights you obtained"
   ]
  },
  {
   "cell_type": "markdown",
   "metadata": {
    "id": "GnH4FIm0Bd9e"
   },
   "source": [
    "I try to inspect the obtained weights of the model by using the `named_parameters` function of `model`"
   ]
  },
  {
   "cell_type": "code",
   "execution_count": 43,
   "metadata": {
    "colab": {
     "base_uri": "https://localhost:8080/"
    },
    "executionInfo": {
     "elapsed": 673,
     "status": "ok",
     "timestamp": 1616921528320,
     "user": {
      "displayName": "Roberto Corti",
      "photoUrl": "https://lh4.googleusercontent.com/-KaiJHEP6Eps/AAAAAAAAAAI/AAAAAAAAABU/y4Yv-P85NuU/s64/photo.jpg",
      "userId": "08099351609548175475"
     },
     "user_tz": -120
    },
    "id": "v9GjZnNuCDP3",
    "outputId": "41e89f66-8643-4eb0-8747-0e63632e8f92"
   },
   "outputs": [
    {
     "name": "stdout",
     "output_type": "stream",
     "text": [
      "layer1.weight \t Parameter containing:\n",
      "tensor([[ 0.0932, -0.0354,  0.1864,  0.4109,  0.2065,  0.0240],\n",
      "        [ 0.2337,  0.3363,  0.3428,  0.1227,  0.2999,  0.1735]],\n",
      "       requires_grad=True)\n",
      "outlayer.weight \t Parameter containing:\n",
      "tensor([[-1.2731, -1.6816]], requires_grad=True)\n"
     ]
    }
   ],
   "source": [
    "with torch.no_grad():\n",
    "  for name, param in model.named_parameters():\n",
    "      print(name, \"\\t\", param)"
   ]
  },
  {
   "cell_type": "markdown",
   "metadata": {
    "id": "wWoWN9FJCPn9"
   },
   "source": [
    "As suggested in the paper, the learned parameters should respect symmetrical properties.\n",
    "\n",
    "In this case we have no such symmetry in the layer's weights and that could explain the fact that our trained network with this set-up is not able to detect symmetry in the input."
   ]
  }
 ],
 "metadata": {
  "colab": {
   "authorship_tag": "ABX9TyNhN03hyJXaLtp3ZgRwsbAA",
   "collapsed_sections": [],
   "name": "homework_2.ipynb",
   "provenance": []
  },
  "kernelspec": {
   "display_name": "Python 3",
   "language": "python",
   "name": "python3"
  },
  "language_info": {
   "codemirror_mode": {
    "name": "ipython",
    "version": 3
   },
   "file_extension": ".py",
   "mimetype": "text/x-python",
   "name": "python",
   "nbconvert_exporter": "python",
   "pygments_lexer": "ipython3",
   "version": "3.8.3"
  }
 },
 "nbformat": 4,
 "nbformat_minor": 1
}
